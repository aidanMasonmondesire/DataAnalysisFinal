{
 "cells": [
  {
   "cell_type": "markdown",
   "metadata": {},
   "source": [
    "# Sources effect on Rating\n",
    "***\n",
    "#### Aidan Mason-Mondesire (100821742), November 27th 2022, CSCI2000U"
   ]
  },
  {
   "cell_type": "markdown",
   "metadata": {},
   "source": [
    "The data set I chose to analyze was from [Kaggle.com](https://www.kaggle.com/datasets/heyrobin/action-anime-list?resource=download). \n",
    "There I chose one that had information about the top 14,000 anime of all time sourced from the popular anime rating/discussion website [My Anime List](https://myanimelist.net/) (MAL). This rating info is opinionated data, ratings came from individuals across the world so rating is overall subjective. So is my question though, my question is that the anime that are more well perceived are originally sourced from manga as opposed to being original or from another source. The rest of the information in the data set should be accurate though with things like genre, source, and episode count since they're publicly accessible static information. I noticed that the top few anime as I scrolled down the list were mainly from manga, even though manga wasn't the majority when it came to source material. This cool bit of information got me interested in seeing the relationship between source and rating, as well as what other factor might play into how well an anime is received. What trends might show up when examining the data. Depending on the results of the analysis, it could bring up more interesting questions like if mangakas (manga authors) tend to make more interesting or enjoyable media than the animation studies who make original anime."
   ]
  },
  {
   "cell_type": "markdown",
   "metadata": {},
   "source": [
    "## Data Collection"
   ]
  },
  {
   "cell_type": "code",
   "execution_count": 261,
   "metadata": {},
   "outputs": [],
   "source": [
    "import pandas as pd\n",
    "import seaborn as sns\n",
    "import matplotlib.pyplot as plt"
   ]
  },
  {
   "cell_type": "code",
   "execution_count": 262,
   "metadata": {},
   "outputs": [],
   "source": [
    "#Loading the dataset\n",
    "anime = pd.read_csv('AnimeList.csv')"
   ]
  },
  {
   "cell_type": "markdown",
   "metadata": {},
   "source": [
    "## Data Cleaning\n",
    "The list is ordered from highest score to lowest score. There were 1283 elements at the end of the list that had no score (NaN), so we removed these rows. As well as removing some of the columns that had unnessessary information that we aren't using in the analysis. We also removed any anime that were a part of sources that had less than 100 entries out of the 14,000 (259 elements). This was the keep some consistency, since there isn't much point in analysing entries with an insignificant amount of adaptations."
   ]
  },
  {
   "cell_type": "code",
   "execution_count": 263,
   "metadata": {},
   "outputs": [],
   "source": [
    "anime = anime.dropna(axis=0,subset=[\"Score\"]) #removes the rows with NaN value Score\n",
    "anime = anime.drop(['Japanese', 'Type', 'Aired', 'Licensors', 'Producers', 'Members'], axis=1) #removes specified \n",
    "obsoleteSources = ['Book', 'Card game','Mixed media','Picture book','Radio','Web novel'] #creates a list of sources to remove\n",
    "anime = anime[anime.Source.isin(obsoleteSources) == False] #removes the sources from the dataframe"
   ]
  },
  {
   "cell_type": "code",
   "execution_count": 264,
   "metadata": {},
   "outputs": [
    {
     "data": {
      "text/html": [
       "<div>\n",
       "<style scoped>\n",
       "    .dataframe tbody tr th:only-of-type {\n",
       "        vertical-align: middle;\n",
       "    }\n",
       "\n",
       "    .dataframe tbody tr th {\n",
       "        vertical-align: top;\n",
       "    }\n",
       "\n",
       "    .dataframe thead th {\n",
       "        text-align: right;\n",
       "    }\n",
       "</style>\n",
       "<table border=\"1\" class=\"dataframe\">\n",
       "  <thead>\n",
       "    <tr style=\"text-align: right;\">\n",
       "      <th></th>\n",
       "      <th>Ranking</th>\n",
       "      <th>Title</th>\n",
       "      <th>Episodes</th>\n",
       "      <th>Duration</th>\n",
       "      <th>Score</th>\n",
       "      <th>Source</th>\n",
       "      <th>Genres</th>\n",
       "      <th>Themes</th>\n",
       "      <th>Rating</th>\n",
       "      <th>Status</th>\n",
       "      <th>Studios</th>\n",
       "    </tr>\n",
       "  </thead>\n",
       "  <tbody>\n",
       "    <tr>\n",
       "      <th>0</th>\n",
       "      <td>1</td>\n",
       "      <td>Fullmetal Alchemist: Brotherhood</td>\n",
       "      <td>64</td>\n",
       "      <td>24 min. per ep.</td>\n",
       "      <td>9.14</td>\n",
       "      <td>Manga</td>\n",
       "      <td>ActionAction,AdventureAdventure,DramaDrama,Fan...</td>\n",
       "      <td>MilitaryMilitary</td>\n",
       "      <td>R - 17+ (violence &amp; profanity)</td>\n",
       "      <td>Finished Airing</td>\n",
       "      <td>Bones</td>\n",
       "    </tr>\n",
       "    <tr>\n",
       "      <th>1</th>\n",
       "      <td>2</td>\n",
       "      <td>Gintama°</td>\n",
       "      <td>51</td>\n",
       "      <td>24 min. per ep.</td>\n",
       "      <td>9.08</td>\n",
       "      <td>Manga</td>\n",
       "      <td>ActionAction,ComedyComedy,Sci-FiSci-Fi</td>\n",
       "      <td>Gag HumorGag Humor,HistoricalHistorical,Parody...</td>\n",
       "      <td>PG-13 - Teens 13 or older</td>\n",
       "      <td>Finished Airing</td>\n",
       "      <td>Bandai Namco Pictures</td>\n",
       "    </tr>\n",
       "    <tr>\n",
       "      <th>2</th>\n",
       "      <td>3</td>\n",
       "      <td>Steins;Gate</td>\n",
       "      <td>24</td>\n",
       "      <td>24 min. per ep.</td>\n",
       "      <td>9.08</td>\n",
       "      <td>Visual novel</td>\n",
       "      <td>DramaDrama,Sci-FiSci-Fi,SuspenseSuspense</td>\n",
       "      <td>PsychologicalPsychological,Time TravelTime Travel</td>\n",
       "      <td>PG-13 - Teens 13 or older</td>\n",
       "      <td>Finished Airing</td>\n",
       "      <td>White Fox</td>\n",
       "    </tr>\n",
       "    <tr>\n",
       "      <th>3</th>\n",
       "      <td>4</td>\n",
       "      <td>Shingeki no Kyojin Season 3 Part 2</td>\n",
       "      <td>10</td>\n",
       "      <td>23 min. per ep.</td>\n",
       "      <td>9.07</td>\n",
       "      <td>Manga</td>\n",
       "      <td>ActionAction,DramaDrama</td>\n",
       "      <td>GoreGore,MilitaryMilitary,SurvivalSurvival</td>\n",
       "      <td>R - 17+ (violence &amp; profanity)</td>\n",
       "      <td>Finished Airing</td>\n",
       "      <td>Wit Studio</td>\n",
       "    </tr>\n",
       "    <tr>\n",
       "      <th>4</th>\n",
       "      <td>5</td>\n",
       "      <td>Gintama'</td>\n",
       "      <td>51</td>\n",
       "      <td>24 min. per ep.</td>\n",
       "      <td>9.05</td>\n",
       "      <td>Manga</td>\n",
       "      <td>ActionAction,ComedyComedy,Sci-FiSci-Fi</td>\n",
       "      <td>Gag HumorGag Humor,HistoricalHistorical,Parody...</td>\n",
       "      <td>PG-13 - Teens 13 or older</td>\n",
       "      <td>Finished Airing</td>\n",
       "      <td>Sunrise</td>\n",
       "    </tr>\n",
       "    <tr>\n",
       "      <th>...</th>\n",
       "      <td>...</td>\n",
       "      <td>...</td>\n",
       "      <td>...</td>\n",
       "      <td>...</td>\n",
       "      <td>...</td>\n",
       "      <td>...</td>\n",
       "      <td>...</td>\n",
       "      <td>...</td>\n",
       "      <td>...</td>\n",
       "      <td>...</td>\n",
       "      <td>...</td>\n",
       "    </tr>\n",
       "    <tr>\n",
       "      <th>12712</th>\n",
       "      <td>12713</td>\n",
       "      <td>Kokuhaku</td>\n",
       "      <td>1</td>\n",
       "      <td>40 sec.</td>\n",
       "      <td>2.29</td>\n",
       "      <td>Original</td>\n",
       "      <td>HorrorHorror</td>\n",
       "      <td>None</td>\n",
       "      <td>R - 17+ (violence &amp; profanity)</td>\n",
       "      <td>Finished Airing</td>\n",
       "      <td>add some</td>\n",
       "    </tr>\n",
       "    <tr>\n",
       "      <th>12713</th>\n",
       "      <td>12714</td>\n",
       "      <td>Nami</td>\n",
       "      <td>1</td>\n",
       "      <td>3 min.</td>\n",
       "      <td>2.25</td>\n",
       "      <td>Original</td>\n",
       "      <td>Avant GardeAvant Garde</td>\n",
       "      <td>None</td>\n",
       "      <td>R+ - Mild Nudity</td>\n",
       "      <td>Finished Airing</td>\n",
       "      <td>add some</td>\n",
       "    </tr>\n",
       "    <tr>\n",
       "      <th>12714</th>\n",
       "      <td>12715</td>\n",
       "      <td>Hametsu no Mars</td>\n",
       "      <td>1</td>\n",
       "      <td>19 min.</td>\n",
       "      <td>2.22</td>\n",
       "      <td>Visual novel</td>\n",
       "      <td>HorrorHorror,Sci-FiSci-Fi</td>\n",
       "      <td>None</td>\n",
       "      <td>R - 17+ (violence &amp; profanity)</td>\n",
       "      <td>Finished Airing</td>\n",
       "      <td>WAO World</td>\n",
       "    </tr>\n",
       "    <tr>\n",
       "      <th>12715</th>\n",
       "      <td>12716</td>\n",
       "      <td>Utsu Musume Sayuri</td>\n",
       "      <td>1</td>\n",
       "      <td>3 min.</td>\n",
       "      <td>1.99</td>\n",
       "      <td>Original</td>\n",
       "      <td>Avant GardeAvant Garde,ComedyComedy</td>\n",
       "      <td>None</td>\n",
       "      <td>R+ - Mild Nudity</td>\n",
       "      <td>Finished Airing</td>\n",
       "      <td>add some</td>\n",
       "    </tr>\n",
       "    <tr>\n",
       "      <th>12716</th>\n",
       "      <td>12717</td>\n",
       "      <td>Tenkuu Danzai Skelter+Heaven</td>\n",
       "      <td>1</td>\n",
       "      <td>19 min.</td>\n",
       "      <td>1.85</td>\n",
       "      <td>Game</td>\n",
       "      <td>Sci-FiSci-Fi</td>\n",
       "      <td>MechaMecha</td>\n",
       "      <td>PG-13 - Teens 13 or older</td>\n",
       "      <td>Finished Airing</td>\n",
       "      <td>add some</td>\n",
       "    </tr>\n",
       "  </tbody>\n",
       "</table>\n",
       "<p>12458 rows × 11 columns</p>\n",
       "</div>"
      ],
      "text/plain": [
       "       Ranking                               Title Episodes         Duration  \\\n",
       "0            1    Fullmetal Alchemist: Brotherhood       64  24 min. per ep.   \n",
       "1            2                            Gintama°       51  24 min. per ep.   \n",
       "2            3                         Steins;Gate       24  24 min. per ep.   \n",
       "3            4  Shingeki no Kyojin Season 3 Part 2       10  23 min. per ep.   \n",
       "4            5                            Gintama'       51  24 min. per ep.   \n",
       "...        ...                                 ...      ...              ...   \n",
       "12712    12713                            Kokuhaku        1          40 sec.   \n",
       "12713    12714                                Nami        1           3 min.   \n",
       "12714    12715                     Hametsu no Mars        1          19 min.   \n",
       "12715    12716                  Utsu Musume Sayuri        1           3 min.   \n",
       "12716    12717        Tenkuu Danzai Skelter+Heaven        1          19 min.   \n",
       "\n",
       "       Score        Source                                             Genres  \\\n",
       "0       9.14         Manga  ActionAction,AdventureAdventure,DramaDrama,Fan...   \n",
       "1       9.08         Manga             ActionAction,ComedyComedy,Sci-FiSci-Fi   \n",
       "2       9.08  Visual novel           DramaDrama,Sci-FiSci-Fi,SuspenseSuspense   \n",
       "3       9.07         Manga                            ActionAction,DramaDrama   \n",
       "4       9.05         Manga             ActionAction,ComedyComedy,Sci-FiSci-Fi   \n",
       "...      ...           ...                                                ...   \n",
       "12712   2.29      Original                                       HorrorHorror   \n",
       "12713   2.25      Original                             Avant GardeAvant Garde   \n",
       "12714   2.22  Visual novel                          HorrorHorror,Sci-FiSci-Fi   \n",
       "12715   1.99      Original                Avant GardeAvant Garde,ComedyComedy   \n",
       "12716   1.85          Game                                       Sci-FiSci-Fi   \n",
       "\n",
       "                                                  Themes  \\\n",
       "0                                       MilitaryMilitary   \n",
       "1      Gag HumorGag Humor,HistoricalHistorical,Parody...   \n",
       "2      PsychologicalPsychological,Time TravelTime Travel   \n",
       "3             GoreGore,MilitaryMilitary,SurvivalSurvival   \n",
       "4      Gag HumorGag Humor,HistoricalHistorical,Parody...   \n",
       "...                                                  ...   \n",
       "12712                                               None   \n",
       "12713                                               None   \n",
       "12714                                               None   \n",
       "12715                                               None   \n",
       "12716                                         MechaMecha   \n",
       "\n",
       "                               Rating           Status                Studios  \n",
       "0      R - 17+ (violence & profanity)  Finished Airing                  Bones  \n",
       "1           PG-13 - Teens 13 or older  Finished Airing  Bandai Namco Pictures  \n",
       "2           PG-13 - Teens 13 or older  Finished Airing              White Fox  \n",
       "3      R - 17+ (violence & profanity)  Finished Airing             Wit Studio  \n",
       "4           PG-13 - Teens 13 or older  Finished Airing                Sunrise  \n",
       "...                               ...              ...                    ...  \n",
       "12712  R - 17+ (violence & profanity)  Finished Airing               add some  \n",
       "12713                R+ - Mild Nudity  Finished Airing               add some  \n",
       "12714  R - 17+ (violence & profanity)  Finished Airing              WAO World  \n",
       "12715                R+ - Mild Nudity  Finished Airing               add some  \n",
       "12716       PG-13 - Teens 13 or older  Finished Airing               add some  \n",
       "\n",
       "[12458 rows x 11 columns]"
      ]
     },
     "execution_count": 264,
     "metadata": {},
     "output_type": "execute_result"
    }
   ],
   "source": [
    "anime #displays the new dataframe"
   ]
  },
  {
   "cell_type": "markdown",
   "metadata": {},
   "source": [
    "## Analysis\n"
   ]
  },
  {
   "cell_type": "markdown",
   "metadata": {},
   "source": [
    "### Score based on Source:"
   ]
  },
  {
   "cell_type": "markdown",
   "metadata": {},
   "source": [
    "Below I group the data by their source material, counting up the amount of adaptations each source had."
   ]
  },
  {
   "cell_type": "code",
   "execution_count": 265,
   "metadata": {},
   "outputs": [
    {
     "data": {
      "text/plain": [
       "Source\n",
       "4-koma manga     264\n",
       "Game             826\n",
       "Light novel      773\n",
       "Manga           3424\n",
       "Music            268\n",
       "Novel            480\n",
       "Original        3773\n",
       "Other            425\n",
       "Unknown         1622\n",
       "Visual novel     375\n",
       "Web manga        228\n",
       "dtype: int64"
      ]
     },
     "execution_count": 265,
     "metadata": {},
     "output_type": "execute_result"
    }
   ],
   "source": [
    "groupedSource = anime.groupby(['Source']).size()\n",
    "groupedSource"
   ]
  },
  {
   "cell_type": "markdown",
   "metadata": {},
   "source": [
    "Here, I take the count of the sources and plot them in a bar graph for a visual representation of the above table. There are a few sources that stand out that are more common than the rest."
   ]
  },
  {
   "cell_type": "code",
   "execution_count": 266,
   "metadata": {},
   "outputs": [],
   "source": [
    "#creating custom orders and colour pallettes to use on the bar graphs\n",
    "ordered=['Original','Manga','Unknown','Game','Light novel','Novel','Other','Visual novel','4-koma manga','Music','Web manga']\n",
    "colours = ['#800000','#9A6324','#808000','#469990','#000075','#4363d8','#911eb4','#f032e6','#bfef45','#aaffc3','#ffd8b1']"
   ]
  },
  {
   "cell_type": "code",
   "execution_count": 267,
   "metadata": {},
   "outputs": [
    {
     "data": {
      "image/png": "[encoded data removed]",
      "text/plain": [
       "<Figure size 432x288 with 1 Axes>"
      ]
     },
     "metadata": {
      "needs_background": "light"
     },
     "output_type": "display_data"
    }
   ],
   "source": [
    "#Source Distribution\n",
    "sourcePlot = sns.countplot(data=anime, x='Source',palette=colours,order=ordered) #creates the countplot\n",
    "p = plt.xticks(rotation=90) # setting the function equal to p to avoid the output text from displaying"
   ]
  },
  {
   "cell_type": "markdown",
   "metadata": {},
   "source": [
    "Comparing the average scores of each of the sources:"
   ]
  },
  {
   "cell_type": "code",
   "execution_count": 268,
   "metadata": {},
   "outputs": [
    {
     "data": {
      "text/plain": [
       "Source\n",
       "4-koma manga    6.72\n",
       "Game            6.37\n",
       "Light novel     7.02\n",
       "Manga           6.94\n",
       "Music           5.78\n",
       "Novel           6.84\n",
       "Original        6.18\n",
       "Other           6.11\n",
       "Unknown         6.13\n",
       "Visual novel    6.56\n",
       "Web manga       6.81\n",
       "Name: Score, dtype: float64"
      ]
     },
     "execution_count": 268,
     "metadata": {},
     "output_type": "execute_result"
    }
   ],
   "source": [
    "#Comparison of Mean MAL Scores\n",
    "d1 = anime.groupby('Source')['Score'].mean() #gets the mean scores\n",
    "round(d1,2) #rounding the results to 2 decimal places for easier reading"
   ]
  },
  {
   "cell_type": "markdown",
   "metadata": {},
   "source": [
    "Visualizing the mean scores, there is not a lot of variation"
   ]
  },
  {
   "cell_type": "code",
   "execution_count": 269,
   "metadata": {},
   "outputs": [
    {
     "data": {
      "image/png": "[encoded data removed]",
      "text/plain": [
       "<Figure size 432x288 with 1 Axes>"
      ]
     },
     "metadata": {
      "needs_background": "light"
     },
     "output_type": "display_data"
    }
   ],
   "source": [
    "g1 = d1.loc[ordered].plot.bar(color=colours) #creating a bar plot"
   ]
  },
  {
   "cell_type": "markdown",
   "metadata": {},
   "source": [
    "There seems to not be a large difference in score when it comes to the mean scores of each source whewn we look at the numeric difference"
   ]
  },
  {
   "cell_type": "code",
   "execution_count": 270,
   "metadata": {},
   "outputs": [
    {
     "data": {
      "text/plain": [
       "1.24"
      ]
     },
     "execution_count": 270,
     "metadata": {},
     "output_type": "execute_result"
    }
   ],
   "source": [
    "d1.describe()\n",
    "difference = d1.max() - d1.min()  #getting the difference between the highest and lowest rated source\n",
    "round(difference,2) #rounding our answer to 2 decimals"
   ]
  },
  {
   "cell_type": "markdown",
   "metadata": {},
   "source": [
    "### Score based on Episodes:"
   ]
  },
  {
   "cell_type": "markdown",
   "metadata": {},
   "source": [
    "For this section I attempted to come up with some relationship between the amount of episodes in an anime and the score is received."
   ]
  },
  {
   "cell_type": "code",
   "execution_count": 271,
   "metadata": {},
   "outputs": [
    {
     "data": {
      "image/png": "[encoded data removed]",
      "text/plain": [
       "<Figure size 432x288 with 1 Axes>"
      ]
     },
     "metadata": {
      "needs_background": "light"
     },
     "output_type": "display_data"
    }
   ],
   "source": [
    "epA = anime.sort_values('Episodes',ascending=True) #sorts the values \n",
    "g2 = sns.scatterplot(x='Episodes',y='Score',data=epA) #creating a scatterplot of the individual episode/score points\n",
    "p = plt.xticks(rotation=90) #rotates the labels on the x-axis\n",
    "p2 = g2.set_xticks(g2.get_xticks()[::5]) #makes the x-axis only show every 5 ticks"
   ]
  },
  {
   "cell_type": "code",
   "execution_count": null,
   "metadata": {},
   "outputs": [],
   "source": []
  }
 ],
 "metadata": {
  "kernelspec": {
   "display_name": "Python 3.8.8 ('base')",
   "language": "python",
   "name": "python3"
  },
  "language_info": {
   "codemirror_mode": {
    "name": "ipython",
    "version": 3
   },
   "file_extension": ".py",
   "mimetype": "text/x-python",
   "name": "python",
   "nbconvert_exporter": "python",
   "pygments_lexer": "ipython3",
   "version": "3.8.8"
  },
  "orig_nbformat": 4,
  "vscode": {
   "interpreter": {
    "hash": "2177e0fce182ae3a3c3357b15aa404609139967d5e8519c51984c56361a7ac59"
   }
  }
 },
 "nbformat": 4,
 "nbformat_minor": 2
}
